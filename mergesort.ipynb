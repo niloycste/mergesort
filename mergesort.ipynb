{
 "cells": [
  {
   "cell_type": "markdown",
   "metadata": {},
   "source": [
    "#split the list into single element"
   ]
  },
  {
   "cell_type": "code",
   "execution_count": 15,
   "metadata": {},
   "outputs": [
    {
     "name": "stdout",
     "output_type": "stream",
     "text": [
      "enter the total size of a list: 7\n",
      "enter the values of a list: 23\n",
      "enter the values of a list: 3\n",
      "enter the values of a list: 49\n",
      "enter the values of a list: 43\n",
      "enter the values of a list: 9\n",
      "enter the values of a list: 5\n",
      "enter the values of a list: 68\n",
      "[3, 49]\n",
      "[3, 23, 49]\n",
      "[5, 68]\n",
      "[5, 9, 43, 68]\n",
      "[3, 5, 9, 23, 43, 49, 68]\n",
      "sorted list:  [3, 5, 9, 23, 43, 49, 68]\n"
     ]
    }
   ],
   "source": [
    "#split the list into single element in recursive function\n",
    "def mergesort(list):\n",
    "    if len(list)>1:\n",
    "        mid=len(list)//2\n",
    "        left_list=list[:mid]\n",
    "        right_list=list[mid:]\n",
    "        mergesort(left_list)\n",
    "        mergesort(right_list)\n",
    "        #merge the list\n",
    "        i=0\n",
    "        j=0\n",
    "        k=0\n",
    "        while i<len(left_list) and j<len(right_list):\n",
    "            if left_list[i]<right_list[j]:\n",
    "                list[k]=left_list[i]\n",
    "                i=i+1\n",
    "                k=k+1\n",
    "            else:\n",
    "                list[k]=right_list[j]\n",
    "                j=j+1\n",
    "                k=k+1\n",
    "        while i<len(left_list):\n",
    "            list[k]=left_list[i]\n",
    "            i=i+1\n",
    "            k=k+1\n",
    "        while j<len(right_list):\n",
    "            list[k]=right_list[j]\n",
    "            j=j+1\n",
    "            k=k+1\n",
    "            print(list)\n",
    "\n",
    "#main function foe executing            \n",
    "list=[]\n",
    "size=int(input(\"enter the total size of a list: \"))\n",
    "for i in range(size):\n",
    "    value=int(input(\"enter the values of a list: \"))\n",
    "    list.append(value)\n",
    "mergesort(list)    \n",
    "print(\"sorted list: \",list) \n",
    "        \n",
    "\n",
    "    "
   ]
  },
  {
   "cell_type": "markdown",
   "metadata": {},
   "source": []
  },
  {
   "cell_type": "code",
   "execution_count": null,
   "metadata": {},
   "outputs": [],
   "source": []
  }
 ],
 "metadata": {
  "kernelspec": {
   "display_name": "Python 3",
   "language": "python",
   "name": "python3"
  },
  "language_info": {
   "codemirror_mode": {
    "name": "ipython",
    "version": 3
   },
   "file_extension": ".py",
   "mimetype": "text/x-python",
   "name": "python",
   "nbconvert_exporter": "python",
   "pygments_lexer": "ipython3",
   "version": "3.7.4"
  }
 },
 "nbformat": 4,
 "nbformat_minor": 2
}
